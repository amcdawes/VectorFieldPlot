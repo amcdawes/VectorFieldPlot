{
 "cells": [
  {
   "cell_type": "code",
   "execution_count": 1,
   "metadata": {
    "collapsed": false,
    "deletable": true,
    "editable": true
   },
   "outputs": [],
   "source": [
    "from vectorfieldplot import *"
   ]
  },
  {
   "cell_type": "code",
   "execution_count": 8,
   "metadata": {
    "collapsed": false,
    "deletable": true,
    "editable": true
   },
   "outputs": [
    {
     "name": "stdout",
     "output_type": "stream",
     "text": [
      "integration boundary 300.0 exceeded at  180.36458, 238.33955\n",
      "integration boundary 300.0 exceeded at -36.34055, 298.16496\n",
      "integration boundary 300.0 exceeded at -201.03436, 223.67417\n",
      "integration boundary 300.0 exceeded at -289.82526, 81.90800\n",
      "integration boundary 300.0 exceeded at -289.82526,-81.90800\n",
      "integration boundary 300.0 exceeded at -201.03436,-223.67417\n",
      "integration boundary 300.0 exceeded at -36.34055,-298.16496\n",
      "integration boundary 300.0 exceeded at  180.36458,-238.33955\n",
      "image written to example.svg\n"
     ]
    }
   ],
   "source": [
    "doc = FieldplotDocument('example', width=220, height=165, unit=30., commons=True)\n",
    "\n",
    "field = Field({'monopoles':[[-1,0,2], [1,0,-1]]})\n",
    "\n",
    "doc.draw_charges(field, scale=11./14.)\n",
    "\n",
    "n = 16\n",
    "\n",
    "for i in range(n):\n",
    "    a = 2.0 * pi * (0.5 + i) / n\n",
    "    if abs(i - (n-1)/2.) > 6: fix = 4 * [False]\n",
    "    else: fix = [True, False, False, True]\n",
    "    line = FieldLine(field, [-1,0], start_v=[cos(a), sin(a)],\n",
    "        directions='forward')\n",
    "    doc.draw_line(line, linewidth=1.0, arrows_style={\n",
    "        'dist':1.6, 'min_arrows':1, 'offsets':[.65,.5,.5,.65],\n",
    "        'fixed_ends':fix, 'scale':1.4})\n",
    "    \n",
    "doc.write()"
   ]
  },
  {
   "cell_type": "markdown",
   "metadata": {
    "collapsed": false,
    "deletable": true,
    "editable": true
   },
   "source": [
    "### Include image via markdown to preview:\n",
    "<img width=50% src=\"example.svg\">"
   ]
  },
  {
   "cell_type": "code",
   "execution_count": null,
   "metadata": {
    "collapsed": true,
    "deletable": true,
    "editable": true
   },
   "outputs": [],
   "source": []
  }
 ],
 "metadata": {
  "kernelspec": {
   "display_name": "Python 3",
   "language": "python",
   "name": "python3"
  },
  "language_info": {
   "codemirror_mode": {
    "name": "ipython",
    "version": 3
   },
   "file_extension": ".py",
   "mimetype": "text/x-python",
   "name": "python",
   "nbconvert_exporter": "python",
   "pygments_lexer": "ipython3",
   "version": "3.5.3"
  }
 },
 "nbformat": 4,
 "nbformat_minor": 2
}
